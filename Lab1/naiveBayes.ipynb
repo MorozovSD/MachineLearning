{
 "cells": [
  {
   "cell_type": "code",
   "execution_count": 94,
   "metadata": {
    "collapsed": true
   },
   "outputs": [],
   "source": [
    "import math\n",
    "import numpy as np\n",
    "import pandas as pd\n",
    "from sklearn.model_selection import train_test_split\n",
    "from sklearn.naive_bayes import GaussianNB\n",
    "\n",
    "\n",
    "def split_dataset(test_size):\n",
    "    dataset = pd.read_csv(\"new_data.csv\", header=None).values\n",
    "    attr = dataset[:, :-1].astype(np.int32, copy=False) # атрибуты\n",
    "    classes = dataset[:, -1].astype(np.int32, copy=False) # классы\n",
    "    data_train, data_test, class_train, class_test = train_test_split(attr, classes, test_size=test_size, random_state=55)\n",
    "    return data_train, class_train, data_test, class_test\n",
    "\n",
    "# Разделяет обучающую выборку по классам таким образом,\n",
    "#  чтобы можно было получить все элементы, принадлежащие определенному классу.\n",
    "def separate_by_class(data_train, class_train):\n",
    "    classes_dict = {}\n",
    "    for i in range(len(data_train)):\n",
    "        classes_dict.setdefault(class_train[i], []).append(data_train[i])\n",
    "    return classes_dict\n",
    "\n",
    "def mean(numbers):  # Среднее значение\n",
    "    return sum(numbers) / float(len(numbers))\n",
    "\n",
    "def stand_dev(numbers):  # вычисление дисперсии\n",
    "    var = sum([pow(x - mean(numbers), 2) for x in numbers]) / float(len(numbers) - 1)\n",
    "    return math.sqrt(var)\n",
    "\n",
    "def summarize(data_train):\n",
    "    summaries = [(mean(att_numbers), stand_dev(att_numbers)) for att_numbers in zip(*data_train)]\n",
    "    return summaries\n",
    "\n",
    "def summarize_by_class(data_train, class_train): # Обучение классификатора\n",
    "    # Разделяет обучающую выборку по классам таким образом,\n",
    "    # чтобы можно было получить все элементы, принадлежащие определенному классу.\n",
    "    classes_dict = separate_by_class(data_train, class_train)\n",
    "    summaries = {}\n",
    "    for class_name, instances in classes_dict.items():\n",
    "        summaries[class_name] = summarize(instances)\n",
    "    return summaries\n",
    "\n",
    "# вычисление апостериорной вероятности принадлежности объекта к определенному классу\n",
    "def calc_probability(x, mean, stdev):\n",
    "    if stdev == 0:\n",
    "        stdev += 0.000001  # добавляем эпсилон, если дисперсия равна 0\n",
    "    exponent = math.exp(-(math.pow(x - mean, 2) / (2 * math.pow(stdev, 2))))\n",
    "    return (1 / (math.sqrt(2 * math.pi) * stdev)) * exponent\n",
    "\n",
    "# вычисление вероятности принадлежности объекта к каждому из классов\n",
    "def calc_class_probabilities(summaries, instance_attr):\n",
    "    probabilities = {}\n",
    "    for class_name, class_summaries in summaries.items():\n",
    "        probabilities[class_name] = 1.0\n",
    "        for i in range(len(class_summaries)):\n",
    "            mean, stdev = class_summaries[i]\n",
    "            x = float(instance_attr[i])\n",
    "            probabilities[class_name] *= calc_probability(x, mean, stdev)\n",
    "    return probabilities\n",
    "\n",
    "# классификация одного объекта\n",
    "def predict_one(summaries, instance_attr):\n",
    "    # вычисление вероятности принадлежности объекта к каждому из классов\n",
    "    probabilities = calc_class_probabilities(summaries, instance_attr)\n",
    "    best_class, max_prob = None, -1\n",
    "    for class_name, probability in probabilities.items():\n",
    "        if best_class is None or probability > max_prob:\n",
    "            max_prob = probability\n",
    "            best_class = class_name\n",
    "    return best_class\n",
    "\n",
    "# классификация тестовой выборки\n",
    "def predict(summaries, data_test):\n",
    "    predictions = []\n",
    "    for i in range(len(data_test)):\n",
    "        result = predict_one(summaries, data_test[i])\n",
    "        predictions.append(result)\n",
    "    return predictions\n",
    "\n",
    "# сравнение результатов классификации с реальными, вычисление точности классификации\n",
    "def calc_accuracy(summaries, data_test, class_test):\n",
    "    correct_answ = 0\n",
    "    predictions = predict(summaries, data_test)\n",
    "    for i in range(len(data_test)):\n",
    "        if class_test[i] == predictions[i]:\n",
    "            correct_answ += 1\n",
    "    return correct_answ / float(len(data_test))\n",
    "\n"
   ]
  },
  {
   "cell_type": "code",
   "execution_count": 95,
   "metadata": {
    "collapsed": true
   },
   "outputs": [],
   "source": [
    "data_train, class_train, data_test, class_test = split_dataset(0.5)    "
   ]
  },
  {
   "cell_type": "code",
   "execution_count": 96,
   "metadata": {},
   "outputs": [
    {
     "data": {
      "text/plain": [
       "array([[ 0,  2,  4,  9, 12, 13],\n",
       "       [ 0,  2,  4,  8, 12, 13],\n",
       "       [ 0,  4,  5,  8,  9, 11],\n",
       "       [ 0,  1,  4,  6,  7, 11],\n",
       "       [ 0,  4,  5,  6, 11, 12],\n",
       "       [ 0,  4,  4, 10, 10, 12],\n",
       "       [ 0,  1,  4,  6,  7,  8],\n",
       "       [ 0,  2,  3,  3,  8, 13],\n",
       "       [ 0,  7,  9, 10, 11, 13],\n",
       "       [ 0,  2,  4,  6,  6,  9],\n",
       "       [ 0,  3,  6,  7,  9, 10],\n",
       "       [ 0,  6,  6,  7,  7, 11],\n",
       "       [ 0,  4,  6,  8, 13, 13],\n",
       "       [ 0,  2,  5,  7,  9, 11],\n",
       "       [ 0,  2,  3,  6, 10, 10]])"
      ]
     },
     "execution_count": 96,
     "metadata": {},
     "output_type": "execute_result"
    }
   ],
   "source": [
    "data_train[:15]"
   ]
  },
  {
   "cell_type": "code",
   "execution_count": 97,
   "metadata": {},
   "outputs": [
    {
     "data": {
      "text/plain": [
       "array([0, 0, 0, 0, 0])"
      ]
     },
     "execution_count": 97,
     "metadata": {},
     "output_type": "execute_result"
    }
   ],
   "source": [
    "class_train[:5]"
   ]
  },
  {
   "cell_type": "code",
   "execution_count": 98,
   "metadata": {},
   "outputs": [
    {
     "data": {
      "text/plain": [
       "array([[ 0,  1,  1,  2,  7, 10],\n",
       "       [ 0,  3,  5,  6,  6, 10],\n",
       "       [ 0,  2,  2,  4, 12, 12],\n",
       "       [ 0,  5,  5,  8, 12, 13],\n",
       "       [ 0,  1,  2,  4,  7,  8],\n",
       "       [ 0,  1,  2,  4, 12, 13],\n",
       "       [ 0,  2,  5,  6,  9, 11],\n",
       "       [ 0,  8,  9, 11, 13, 13],\n",
       "       [ 0,  5,  6, 10, 11, 12],\n",
       "       [ 0,  1,  7,  8, 11, 12],\n",
       "       [ 0,  3,  4,  9, 12, 13],\n",
       "       [ 0,  2,  7,  8, 11, 13],\n",
       "       [ 0,  1,  7,  9, 11, 12],\n",
       "       [ 0,  5, 11, 11, 12, 13],\n",
       "       [ 0,  5,  6, 10, 11, 11]])"
      ]
     },
     "execution_count": 98,
     "metadata": {},
     "output_type": "execute_result"
    }
   ],
   "source": [
    "data_test[:15]"
   ]
  },
  {
   "cell_type": "code",
   "execution_count": 99,
   "metadata": {},
   "outputs": [
    {
     "data": {
      "text/plain": [
       "array([1, 1, 2, 1, 0, 0, 0, 1, 0, 0, 0, 0, 0, 1, 1])"
      ]
     },
     "execution_count": 99,
     "metadata": {},
     "output_type": "execute_result"
    }
   ],
   "source": [
    "class_test[:15]"
   ]
  },
  {
   "cell_type": "code",
   "execution_count": 100,
   "metadata": {},
   "outputs": [],
   "source": [
    "summaries = summarize_by_class(data_train, class_train)\n"
   ]
  },
  {
   "cell_type": "code",
   "execution_count": 101,
   "metadata": {},
   "outputs": [
    {
     "name": "stdout",
     "output_type": "stream",
     "text": [
      "myNBClass  Accuracy:  0.45765693722510997\n"
     ]
    }
   ],
   "source": [
    "accuracy = calc_accuracy(summaries, data_test, class_test)\n",
    "print('myNBClass ', 'Accuracy: ', accuracy)"
   ]
  },
  {
   "cell_type": "code",
   "execution_count": 102,
   "metadata": {},
   "outputs": [
    {
     "name": "stdout",
     "output_type": "stream",
     "text": [
      "sklNBClass  Accuracy:  0.592483006797\n"
     ]
    }
   ],
   "source": [
    "clf = GaussianNB()\n",
    "clf.fit(data_train, class_train)\n",
    "print('sklNBClass ', 'Accuracy: ', clf.score(data_test, class_test))"
   ]
  },
  {
   "cell_type": "code",
   "execution_count": 103,
   "metadata": {},
   "outputs": [],
   "source": [
    "def change_dataset():\n",
    "    with open(\"data.csv\") as inf, open(\"new_data.csv\", \"w\") as outf:\n",
    "        for line in inf:\n",
    "            ans = []\n",
    "            rang = []\n",
    "            s = line.split(',')\n",
    "            if (s[0] == s[2] == s[4] == s[6] == s[8]):\n",
    "                ans.append(1)\n",
    "            else:\n",
    "                ans.append(0)\n",
    "            rang = s[1:10:2]\n",
    "            rang.sort(key=int)\n",
    "            ans.extend(rang)\n",
    "            ans.append(s[10])\n",
    "            out = ','.join(map(str, ans))\n",
    "            outf.write(out)"
   ]
  },
  {
   "cell_type": "code",
   "execution_count": null,
   "metadata": {
    "scrolled": false
   },
   "outputs": [],
   "source": []
  }
 ],
 "metadata": {
  "kernelspec": {
   "display_name": "Python 3",
   "language": "python",
   "name": "python3"
  },
  "language_info": {
   "codemirror_mode": {
    "name": "ipython",
    "version": 3
   },
   "file_extension": ".py",
   "mimetype": "text/x-python",
   "name": "python",
   "nbconvert_exporter": "python",
   "pygments_lexer": "ipython3",
   "version": "3.6.3"
  }
 },
 "nbformat": 4,
 "nbformat_minor": 2
}
