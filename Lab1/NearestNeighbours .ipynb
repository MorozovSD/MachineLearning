{
 "cells": [
  {
   "cell_type": "code",
   "execution_count": 1,
   "metadata": {
    "collapsed": true
   },
   "outputs": [],
   "source": [
    "import pandas as pd\n",
    "import numpy as np\n",
    "import operator\n",
    "from sklearn.model_selection import train_test_split\n",
    "from math import sqrt\n",
    "from collections import Counter\n",
    "from sklearn.neighbors import KNeighborsClassifier\n",
    "\n",
    "def load_data(filename):\n",
    "    dataset = pd.read_csv(filename, header=None).values\n",
    "    attr = dataset[:, :-1].astype(np.int32, copy=False) # атрибуты\n",
    "    classes = dataset[:, -1].astype(np.int32, copy=False) # классы\n",
    "    return train_test_split(attr, classes, test_size=0.35)\n",
    "\n",
    "# евклидово расстояние от объекта 1 до объекта 2\n",
    "def euclidean_distance(instance1, instance2):\n",
    "    squares = [(i - j) ** 2 for i, j in zip(instance1, instance2)]\n",
    "    return sqrt(sum(squares))\n",
    "\n",
    "# рассчет расстояний до всех объектов в датасете\n",
    "def get_neighbours(instance, data_train, class_train, k):\n",
    "    distances = []\n",
    "    for i in data_train:\n",
    "        distances.append(euclidean_distance(instance, i))\n",
    "    distances = tuple(zip(distances, class_train))\n",
    "    # cортировка расстояний по возрастанию k ближайших соседей\n",
    "    return sorted(distances, key=operator.itemgetter(0))[:k]\n",
    "\n",
    "# определение самого распространенного класса среди соседей\n",
    "def get_response(neigbours):\n",
    "    return Counter(neigbours).most_common()[0][0][1]\n",
    "\n",
    "# классификация тестовой выборки\n",
    "def get_predictions(data_train, class_train, data_test, k):\n",
    "    predictions = []\n",
    "    for i in data_test:\n",
    "        neigbours = get_neighbours(i, data_train, class_train, k)\n",
    "        response = get_response(neigbours)\n",
    "        predictions.append(response)\n",
    "    return predictions\n",
    "\n",
    "# измерение точности\n",
    "def get_accuracy(data_train, class_train, data_test, class_test, k):\n",
    "    predictions = get_predictions(data_train, class_train, data_test, k)\n",
    "    mean = [i == j for i, j in zip(class_test, predictions)]\n",
    "    return sum(mean) / len(mean)\n",
    "\n",
    "def main():\n",
    "    data_train, data_test, class_train, class_test = load_data(\"new_data.csv\")\n",
    "    print('myKNClass', 'Accuracy: ', get_accuracy(data_train, class_train, data_test, class_test, 15))\n",
    "    clf = KNeighborsClassifier(n_neighbors=15)\n",
    "    clf.fit(data_train, class_train)\n",
    "    print('sklKNClass', 'Accuracy: ', clf.score(data_test, class_test))\n"
   ]
  },
  {
   "cell_type": "code",
   "execution_count": 2,
   "metadata": {},
   "outputs": [
    {
     "name": "stdout",
     "output_type": "stream",
     "text": [
      "myKNClass Accuracy:  0.763422435458\n",
      "sklKNClass Accuracy:  0.8118574366\n"
     ]
    }
   ],
   "source": [
    "main()"
   ]
  }
 ],
 "metadata": {
  "kernelspec": {
   "display_name": "Python 3",
   "language": "python",
   "name": "python3"
  },
  "language_info": {
   "codemirror_mode": {
    "name": "ipython",
    "version": 3
   },
   "file_extension": ".py",
   "mimetype": "text/x-python",
   "name": "python",
   "nbconvert_exporter": "python",
   "pygments_lexer": "ipython3",
   "version": "3.6.3"
  }
 },
 "nbformat": 4,
 "nbformat_minor": 2
}
